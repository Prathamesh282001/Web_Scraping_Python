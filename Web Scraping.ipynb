{
 "cells": [
  {
   "cell_type": "code",
   "execution_count": 49,
   "id": "094c7965",
   "metadata": {},
   "outputs": [],
   "source": [
    "import requests\n",
    "from bs4 import BeautifulSoup\n",
    "import html5lib\n",
    "import pandas as pd\n",
    "from urllib.parse import urlencode"
   ]
  },
  {
   "cell_type": "markdown",
   "id": "bc2417d6",
   "metadata": {},
   "source": [
    "# "
   ]
  },
  {
   "cell_type": "markdown",
   "id": "6f80ebeb",
   "metadata": {},
   "source": [
    "## Extracts news headings from Washington Post. "
   ]
  },
  {
   "cell_type": "code",
   "execution_count": 36,
   "id": "3ff3601d",
   "metadata": {},
   "outputs": [],
   "source": [
    "url = \"https://www.washingtonpost.com/business/technology/\""
   ]
  },
  {
   "cell_type": "code",
   "execution_count": 37,
   "id": "2b08f1ff",
   "metadata": {},
   "outputs": [
    {
     "name": "stdout",
     "output_type": "stream",
     "text": [
      "<Response [200]>\n"
     ]
    }
   ],
   "source": [
    "req = requests.get(url)\n",
    "print(req)"
   ]
  },
  {
   "cell_type": "code",
   "execution_count": 62,
   "id": "02a09a51",
   "metadata": {},
   "outputs": [],
   "source": [
    "#print(req.text)"
   ]
  },
  {
   "cell_type": "code",
   "execution_count": 38,
   "id": "847da60c",
   "metadata": {},
   "outputs": [],
   "source": [
    "soup = BeautifulSoup(req.content,'html.parser')"
   ]
  },
  {
   "cell_type": "code",
   "execution_count": 52,
   "id": "7ebb15c5",
   "metadata": {},
   "outputs": [],
   "source": [
    "headlines = []\n",
    "for i in soup.find_all(\"div\",class_=\"w-100\"):\n",
    "    if i.text:\n",
    "        headlines.append(i.text)"
   ]
  },
  {
   "cell_type": "code",
   "execution_count": 56,
   "id": "870d0bce",
   "metadata": {},
   "outputs": [],
   "source": [
    "df = pd.DataFrame(headlines)\n",
    "df.columns = [\"Headline\"]"
   ]
  },
  {
   "cell_type": "code",
   "execution_count": 57,
   "id": "94283777",
   "metadata": {},
   "outputs": [],
   "source": [
    "df[\"Headline\"] = df[\"Headline\"].apply(lambda x : x.strip())"
   ]
  },
  {
   "cell_type": "markdown",
   "id": "c6aaac88",
   "metadata": {},
   "source": [
    "# "
   ]
  },
  {
   "cell_type": "markdown",
   "id": "fe3db5fd",
   "metadata": {},
   "source": [
    "## Extracts cryptocoins prices from coinmarketcap.com website. "
   ]
  },
  {
   "cell_type": "code",
   "execution_count": 106,
   "id": "592e59eb",
   "metadata": {},
   "outputs": [],
   "source": [
    "url = \"https://coinmarketcap.com/\""
   ]
  },
  {
   "cell_type": "code",
   "execution_count": 107,
   "id": "29fb3886",
   "metadata": {},
   "outputs": [],
   "source": [
    "req = requests.get(url)"
   ]
  },
  {
   "cell_type": "code",
   "execution_count": 111,
   "id": "7a5981c7",
   "metadata": {},
   "outputs": [],
   "source": [
    "soup = BeautifulSoup(req.text,'html.parser')"
   ]
  },
  {
   "cell_type": "code",
   "execution_count": 124,
   "id": "61e9a1f5",
   "metadata": {},
   "outputs": [],
   "source": [
    "table = soup.find_all(\"table\")"
   ]
  },
  {
   "cell_type": "code",
   "execution_count": 173,
   "id": "5cb8ebc8",
   "metadata": {},
   "outputs": [],
   "source": [
    "info = soup.tbody.contents\n",
    "df = {}\n",
    "for i in info[0:10]:\n",
    "    names,prices = i.contents[2:4]\n",
    "    name = names.p.string\n",
    "    price = prices.a.string\n",
    "    \n",
    "    df[name] = price"
   ]
  },
  {
   "cell_type": "code",
   "execution_count": 171,
   "id": "816e23b3",
   "metadata": {},
   "outputs": [
    {
     "data": {
      "text/plain": [
       "{'Bitcoin': '$27,436.15',\n",
       " 'Ethereum': '$1,717.31',\n",
       " 'Tether USDt': '$0.9998',\n",
       " 'BNB': '$224.96',\n",
       " 'XRP': '$0.5315',\n",
       " 'USD Coin': '$0.9999',\n",
       " 'Cardano': '$0.2657',\n",
       " 'Dogecoin': '$0.06554',\n",
       " 'Solana': '$21.61',\n",
       " 'TRON': '$0.07669'}"
      ]
     },
     "execution_count": 171,
     "metadata": {},
     "output_type": "execute_result"
    }
   ],
   "source": [
    "df"
   ]
  },
  {
   "cell_type": "markdown",
   "id": "fff342cd",
   "metadata": {},
   "source": [
    "# "
   ]
  },
  {
   "cell_type": "markdown",
   "id": "c3fa4a02",
   "metadata": {},
   "source": [
    "## Extracts Product name, Price and rating from Amazon.com website using user provided product name."
   ]
  },
  {
   "cell_type": "code",
   "execution_count": 291,
   "id": "918d9c40",
   "metadata": {},
   "outputs": [
    {
     "name": "stdout",
     "output_type": "stream",
     "text": [
      "Enter product name...imac\n",
      "\n",
      "Product Name :Apple 2021 iMac with 4.5K Retina Display (24-inch/60.96 cm, M1 chip with 8‑core CPU and 8‑core GPU, 8GB RAM, 256GB) - Green  \n",
      "Price :₹1,31,490\n",
      "Rating :4.5\n",
      "https://www.amazon.in/Apple-Retina-Display-24-inch-8%E2%80%91core/dp/B0932MY7RV/ref=sr_1_1?crid=3RN810JJGUTSU&keywords=imac&qid=1693390566&sprefix=%2Caps%2C222&sr=8-1\n",
      "-------------------------------\n",
      "\n",
      "Product Name :Lenovo Yoga AIO 7 27 4K UHD Touchscreen All-in-One Desktop (AMD Ryzen 7 5800H/16GB/1TB SSD/Windows 11/ Home 64/Office 2021/AMD Radeon RX6600M 8GB GDDR6), Grey  \n",
      "Price :₹1,69,630\n",
      "Rating :4.5\n",
      "https://www.amazon.in/Lenovo-Touchscreen-Desktop-Speakers-Rotating/dp/B09T7BPJHZ/ref=sr_1_6?crid=3RN810JJGUTSU&keywords=imac&qid=1693390566&sprefix=%2Caps%2C222&sr=8-6\n",
      "-------------------------------\n",
      "\n",
      "Product Name :ASUS Vivo AiO V222, 4 core Intel Pentium Silver J5040, All-in-One Desktop (8GB/256GB SSD/Integrated Graphics/Windows 11/with Wired Keyboard & Mouse Included/Black/4.8 kg), V222GAK-BA034W  \n",
      "Price :₹31,990\n",
      "Rating :4.5\n",
      "https://www.amazon.in/ASUS-Pentium-Integrated-Graphics-V222GAK-BA034W/dp/B0BBXLFCP2/ref=sr_1_12?crid=3RN810JJGUTSU&keywords=imac&qid=1693390566&sprefix=%2Caps%2C222&sr=8-12\n",
      "-------------------------------\n",
      "\n",
      "Product Name :ASUS Vivo AiO V222, 2 core Intel Pentium Gold 6405U, All-in-One Desktop (8GB/256GB SSD/Integrated Graphics/Windows 11/White/4.8 kg), V222FAK-WA152W  \n",
      "Price :₹33,990\n",
      "Rating :4.5\n",
      "https://www.amazon.in/ASUS-Pentium-Integrated-Graphics-V222FAK-WA152W/dp/B0BBXG3K4C/ref=sr_1_9?crid=3RN810JJGUTSU&keywords=imac&qid=1693390566&sprefix=%2Caps%2C222&sr=8-9\n",
      "-------------------------------\n",
      "\n",
      "Product Name :HP All-in-One PC Intel Pentium J5040 21.5-inch(54.6 cm) FHD Three-Sided Micro-Edge Display(8GB RAM/512GB SSD/Intel UHD Graphics/Win 11 Home/Wired Keyboard and Mouse Combo/MS Office)22-dd2686in, White  \n",
      "Price :₹33,990\n",
      "Rating :4.5\n",
      "https://www.amazon.in/HP-21-5-inch-Three-Sided-Micro-Edge-22-dd2686in/dp/B0BCH42CXW/ref=sr_1_10?crid=3RN810JJGUTSU&keywords=imac&qid=1693390566&sprefix=%2Caps%2C222&sr=8-10\n",
      "-------------------------------\n",
      "\n",
      "Product Name :Radiant Electro 24 inch All in One Gamming Computer Set (Intel-Core i5 Processor/8 GB RAM/HDD 1 Tb /24\" Monitor/240 ssd/2gb Dedicated nvidia Graphic Card/Windows 10) with One Year Warranty_01 Black  \n",
      "Price :₹37,499\n",
      "Rating :4.5\n",
      "https://www.amazon.in/Computer-Intel-Core-Processor-Dedicated-Warranty_01/dp/B093QKR1KQ/ref=sr_1_11?crid=3RN810JJGUTSU&keywords=imac&qid=1693390566&sprefix=%2Caps%2C222&sr=8-11\n",
      "-------------------------------\n",
      "\n",
      "Product Name :ASUS AIO M241, 23.8\" FHD, Dual Core AMD Ryzen 3 3250U All-in-One Desktop (4GB/1TB HDD/Office 2019/Windows 10/Integrated Graphics/with Wireless Keyboard & Mouse/White/5.4 Kg), M241DAK-WA044TS  \n",
      "Price :₹43,240\n",
      "Rating :4.5\n",
      "https://www.amazon.in/ASUS-Integrated-Graphics-Wireless-M241DAK-WA044TS/dp/B08CKSRHQM/ref=sr_1_5?crid=3RN810JJGUTSU&keywords=imac&qid=1693390566&sprefix=%2Caps%2C222&sr=8-5\n",
      "-------------------------------\n",
      "\n",
      "Product Name :HP All-in-One AMD Ryzen 3-3250U 23.8-inches(60.5 cm) FHD Desktop PC (8GB/256GB SSD + 1TB HDD/FHD IR Camera/Radeon Graphics/Wireless Keyboard and Mouse Combo/Win 11/MS Office/Snow White, 24-cb0789in  \n",
      "Price :₹43,490\n",
      "Rating :4.5\n",
      "https://www.amazon.in/HP-23-8-Inch-Desktop-3-3250U-24-cb0789in/dp/B09S9YH3F4/ref=sr_1_13?crid=3RN810JJGUTSU&keywords=imac&qid=1693390566&sprefix=%2Caps%2C222&sr=8-13\n",
      "-------------------------------\n",
      "\n",
      "Product Name :ASUS Vivo AiO V222, 21.5\" (54.61 cm) FHD, Intel Core i5-10210U 10th Gen, All-in-One Desktop (8GB/512GB SSD/UHD Graphics/Windows 11/Office 2021/Wireless Keyboard & Mouse/Black/4.8 kg), V222FAK-BA020WS  \n",
      "Price :₹54,500\n",
      "Rating :4.5\n",
      "https://www.amazon.in/ASUS-i5-10210U-Graphics-Wireless-V222FAK-BA020WS/dp/B0B5FC71CJ/ref=sr_1_16?crid=3RN810JJGUTSU&keywords=imac&qid=1693390566&sprefix=%2Caps%2C222&sr=8-16\n",
      "-------------------------------\n",
      "\n",
      "Product Name :ASUS AiO A3 Series, 21.45\" (54.48 cm) FHD, Intel Core i5-1235U 12th Gen, All-in-One Desktop (8GB/512GB SSD/Windows 11/Office 2021/with Wireless Keyboard & Mouse/Black/4.84 kg), A3202WBAK-BA003WS  \n",
      "Price :₹56,990\n",
      "Rating :4.5\n",
      "https://www.amazon.in/ASUS-i5-1235U-Wireless-Keyboard-A3202WBAK-BA003WS/dp/B0BMFNG26P/ref=sr_1_8?crid=3RN810JJGUTSU&keywords=imac&qid=1693390566&sprefix=%2Caps%2C222&sr=8-8\n",
      "-------------------------------\n",
      "\n",
      "Product Name :Lenovo IdeaCentre AIO 3 11th Gen Intel i5 23.8\" FHD IPS 3-Side Edgeless All-in-One Desktop with Alexa Built-in (8GB/1 TB HDD/Win11/MS Office 2021/HD 720p Camera/Wireless Keyboard & Mouse) F0G00187IN  \n",
      "Price :₹57,990\n",
      "Rating :4.5\n",
      "https://www.amazon.in/Lenovo-IdeaCentre-Edgeless-Wireless-F0G00187IN/dp/B0B8DKHC89/ref=sr_1_15?crid=3RN810JJGUTSU&keywords=imac&qid=1693390566&sprefix=%2Caps%2C222&sr=8-15\n",
      "-------------------------------\n",
      "\n",
      "Product Name :ASUS AiO A3 Series, 23.8\" (60.45 cm) FHD, Intel Core i5-1235U 12th Gen, All-in-One Desktop (8GB/512GB SSD/Windows 11/Office 2021/with Wireless Keyboard & Mouse/White/5.4 kg), A3402WBAK-WA024WS  \n",
      "Price :₹61,990\n",
      "Rating :4.5\n",
      "https://www.amazon.in/ASUS-i5-1235U-Wireless-Keyboard-A3402WBAK-WA024WS/dp/B0BMFMBXTR/ref=sr_1_3?crid=3RN810JJGUTSU&keywords=imac&qid=1693390566&sprefix=%2Caps%2C222&sr=8-3\n",
      "-------------------------------\n",
      "\n",
      "Product Name :ASUS AiO A3 Series, 23.8\" (60.45 cm) FHD, Intel Core i5-1235U 12th Gen, All-in-One Desktop (8GB/512GB SSD/Windows 11/Office 2021/with Wireless Keyboard & Mouse/White/5.4 kg), A3402WBAK-WA035WS  \n",
      "Price :₹67,676\n",
      "Rating :4.5\n",
      "https://www.amazon.in/ASUS-i5-1235U-Wireless-Keyboard-A3402WBAK-WA035WS/dp/B0C8Z88WR2/ref=sr_1_2?crid=3RN810JJGUTSU&keywords=imac&qid=1693390566&sprefix=%2Caps%2C222&sr=8-2\n",
      "-------------------------------\n",
      "\n",
      "Product Name :HP All-in-One 12th Gen Intel Core i7 24-inch(60.4 cm) FHD Desktop (16GB RAM/512 SSD/Win 11/Wireless Keyboard and Mouse Combo/MSO/Intel Iris Graphics/IR Privacy Camera/Starry White),24-cb1237i  \n",
      "Price :₹83,990\n",
      "Rating :4.5\n",
      "https://www.amazon.in/HP-Wireless-Keyboard-Graphics-24-cb1237i/dp/B0BSFS51RJ/ref=sr_1_4?crid=3RN810JJGUTSU&keywords=imac&qid=1693390566&sprefix=%2Caps%2C222&sr=8-4\n",
      "-------------------------------\n",
      "\n",
      "Product Name :Dell Inspiron 27 7700 All in One Desktop(11th Gen i5-1135G7/ 8GB RAM/1TB HDD+256GB SSD/Integrated Graphics/Windows 10/ MS Office) 27\" FHD All in One Desktop  \n",
      "Price :₹99,990\n",
      "Rating :4.5\n",
      "https://www.amazon.in/Dell-Inspiron-i5-1135G7-Integrated-Graphics/dp/B08N6DC9VX/ref=sr_1_14?crid=3RN810JJGUTSU&keywords=imac&qid=1693390566&sprefix=%2Caps%2C222&sr=8-14\n",
      "-------------------------------\n",
      "\n"
     ]
    }
   ],
   "source": [
    "import re\n",
    "\n",
    "search = input(\"Enter product name...\")\n",
    "for i in range(1):\n",
    "    url = f\"https://www.amazon.in/s?k={search}&page={i}&crid=3RN810JJGUTSU&qid=1693384529&sprefix=%2Caps%2C222&ref=sr_pg_2\" \n",
    "\n",
    "    params = {'api_key': \"e879eb38a805777dc3c49b2e00b05b82\", \n",
    "        'url': url}\n",
    "    req = requests.get('http://api.scraperapi.com/', params=urlencode(params))\n",
    "    soup = BeautifulSoup(req.text,'html.parser')\n",
    "    \n",
    "    div = soup.find_all('div',class_ = \"s-result-item\")\n",
    "    dic = {}\n",
    "    for i in div:\n",
    "\n",
    "        if i.h2 != None:\n",
    "            #print(i.h2.text)\n",
    "            name = i.h2.text                \n",
    "            \n",
    "        if i.h2 != None:\n",
    "            if i.h2.a != None:\n",
    "                Link = \"https://www.amazon.in\" + i.h2.a[\"href\"]\n",
    "\n",
    "        if i.find(\"span\",class_='a-size-base puis-normal-weight-text') != None:\n",
    "            #print(i.find(\"span\",class_='a-size-base puis-normal-weight-text').text)\n",
    "            ratings = i.find(\"span\",class_='a-size-base puis-normal-weight-text').text\n",
    "\n",
    "        if i.find(\"span\",class_=\"a-offscreen\") != None:\n",
    "            #print(i.find(\"span\",class_=\"a-offscreen\").text)\n",
    "            prices = i.find(\"span\",class_=\"a-offscreen\").text\n",
    "            dic[name] = {\"Price\":prices,\"Rating\":ratings,\"Link\":Link}\n",
    "            \n",
    "sorted_dic = sorted(dic.items(),key=lambda x: x[1]['Price'])\n",
    "\n",
    "print()\n",
    "for item in sorted_dic:\n",
    "    print(\"Product Name :\" +item[0])\n",
    "    print(\"Price :\" +item[1]['Price'])\n",
    "    print(\"Rating :\" +item[1]['Rating'])\n",
    "    print(item[1][\"Link\"])\n",
    "    print(\"-------------------------------\")\n",
    "    print()\n",
    "\n",
    "    "
   ]
  },
  {
   "cell_type": "markdown",
   "id": "95a5b297",
   "metadata": {},
   "source": [
    "# "
   ]
  }
 ],
 "metadata": {
  "kernelspec": {
   "display_name": "Python 3 (ipykernel)",
   "language": "python",
   "name": "python3"
  },
  "language_info": {
   "codemirror_mode": {
    "name": "ipython",
    "version": 3
   },
   "file_extension": ".py",
   "mimetype": "text/x-python",
   "name": "python",
   "nbconvert_exporter": "python",
   "pygments_lexer": "ipython3",
   "version": "3.9.1"
  }
 },
 "nbformat": 4,
 "nbformat_minor": 5
}
